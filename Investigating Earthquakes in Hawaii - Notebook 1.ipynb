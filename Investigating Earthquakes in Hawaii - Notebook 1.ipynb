{
 "cells": [
  {
   "cell_type": "markdown",
   "id": "60e13c9d",
   "metadata": {},
   "source": [
    "# Task 1"
   ]
  },
  {
   "cell_type": "markdown",
   "id": "811e0043",
   "metadata": {
    "heading_collapsed": true
   },
   "source": [
    "## Investigating Earthquakes in Hawaii between 2014 and 2023"
   ]
  },
  {
   "cell_type": "markdown",
   "id": "9349e712",
   "metadata": {
    "hidden": true
   },
   "source": [
    "**Faith Whyte** - \n",
    "*This project is for educational purposes only.*\n"
   ]
  },
  {
   "cell_type": "markdown",
   "id": "e792fe59",
   "metadata": {
    "hidden": true
   },
   "source": [
    "According to the [USGS](https://www.usgs.gov/observatories/hvo/science/about-earthquakes-hawaii#:~:text=The%20earthquake%20record%20since%201823,one%20M5%20or%20greater%20earthquake.), thousands of earthquakes occur every year in Hawaii, some of which are destructive. The aim of this project is to investigate earthquakes felt by people in Hawaii over the course of a decade. \n",
    "\n",
    "This will be acheived by retrieving data from the [USGS Earthquake Catalog API](https://earthquake.usgs.gov/fdsnws/event/1/) under specific conditions, engineering the raw data, performing exploratory analysis, visualising the results, and extracting insights about earthquakes in Hawaii between 2014 and 2023.\n",
    "\n",
    "\n",
    "The scope of this project limits the collection of data to events with positive 'felt' values, indicating that at least one person has subitted a record through the [*Did You Feel It?*](https://earthquake.usgs.gov/data/dyfi/) system. Geographic coordinates (21.3099°, -157.8581°) denote the midpoint of Hawaii. This midpoint along with a search radius of 1,250km filters the data to earthquakes events across all islands of Hawaii.\n",
    "\n",
    "This Jupyter Notebook is the first of two for this project and is includes the steps for collecting and storing data from the API."
   ]
  },
  {
   "cell_type": "markdown",
   "id": "68aaad7b",
   "metadata": {
    "heading_collapsed": true
   },
   "source": [
    "## Housekeeping"
   ]
  },
  {
   "cell_type": "markdown",
   "id": "45a50a5c",
   "metadata": {
    "heading_collapsed": true,
    "hidden": true
   },
   "source": [
    "### Importing the necessary libraries "
   ]
  },
  {
   "cell_type": "code",
   "execution_count": 1,
   "id": "6f20d05e",
   "metadata": {
    "hidden": true
   },
   "outputs": [],
   "source": [
    "# File management:\n",
    "\n",
    "from pathlib import Path\n",
    "import os\n",
    "\n",
    "# Data retrieval: \n",
    "\n",
    "import requests\n",
    "import urllib\n",
    "import urllib.request as ulrq\n",
    "import urllib.parse as urlparse\n",
    "\n",
    "# json management:\n",
    "\n",
    "import json \n",
    "\n",
    "# Dataframe management:\n",
    "\n",
    "import pandas as pd"
   ]
  },
  {
   "cell_type": "markdown",
   "id": "8bb026d0",
   "metadata": {
    "heading_collapsed": true,
    "hidden": true
   },
   "source": [
    "### Setting the working directory"
   ]
  },
  {
   "cell_type": "code",
   "execution_count": 2,
   "id": "46091cde",
   "metadata": {
    "hidden": true
   },
   "outputs": [
    {
     "name": "stdout",
     "output_type": "stream",
     "text": [
      "Working directory is set. Response and raw data will save to folder: Earthquake Project.\n"
     ]
    }
   ],
   "source": [
    "# Create a folder \"Earthquake Project\" if there is not one already. \n",
    "\n",
    "wd = Path(\"Earthquake Project\")\n",
    "wd.mkdir(parents=True, exist_ok=True)\n",
    "\n",
    "# Set \"Earthquake Project\" as the working directory.\n",
    "\n",
    "os.chdir(wd)\n",
    "\n",
    "print(\"Working directory is set. Response and raw data will save to folder: %s.\" % os.path.basename(os.getcwd()))"
   ]
  },
  {
   "cell_type": "markdown",
   "id": "3db1083f",
   "metadata": {
    "heading_collapsed": true
   },
   "source": [
    "## Data Collection"
   ]
  },
  {
   "cell_type": "markdown",
   "id": "a46c42fc",
   "metadata": {
    "heading_collapsed": true,
    "hidden": true
   },
   "source": [
    "### Retrieving raw data from the API "
   ]
  },
  {
   "cell_type": "markdown",
   "id": "bdc8b986",
   "metadata": {
    "hidden": true
   },
   "source": [
    "The response variable is defined by the endpoint, which is the where the data request will be sent, and params, which define the search queries. \n",
    "The data will be fetched as a GeoJSON file, which is similar to a JSON file but includes geospatial information. "
   ]
  },
  {
   "cell_type": "code",
   "execution_count": 3,
   "id": "411a8e46",
   "metadata": {
    "hidden": true
   },
   "outputs": [],
   "source": [
    "# Define the function that will retrieve the data from the API, setting defaults for the format and limit.\n",
    "# Since we are querying parameters, we must add the query method to the url, to allow the assignment of parameters. \n",
    "\n",
    "def fetch(api_url, params = {'format': 'geojson', 'limit' : '100'}): \n",
    "    \n",
    "    # Add query method to the url if not already present.\n",
    "    \n",
    "    if not api_url.endswith(\"query?\"): \n",
    "        api_url += \"query?\" \n",
    "     \n",
    "    response = requests.get(api_url, params=params)\n",
    "    \n",
    "    # Add parameters to the url.\n",
    "    \n",
    "    if api_url.endswith(\"query?\"):\n",
    "        endpoint = api_url + urlparse.urlencode(params)\n",
    "        \n",
    "    print(\"Fetching earthquake data from: %s\" % (endpoint))\n",
    "\n",
    "    # If the the status is good, then a positive message is produced and the raw data is written to a JSON file\n",
    "    \n",
    "    if response.status_code == 200:\n",
    "        data = response.json()\n",
    "        print(\"Data has been successfully fetched!\")\n",
    "    \n",
    "        out_path = \"earthquakes_raw.json\"\n",
    "        print(\"Writing the raw data to %s\\%s.\" % (wd, out_path))\n",
    "        fout = open(out_path, \"w\")\n",
    "        json.dump(data, fout, indent=4, sort_keys=True)\n",
    "        fout.close()\n",
    "        \n",
    "    # If the status signifies a fail, a message will be produced to reflect that. \n",
    "    \n",
    "    else:\n",
    "        print(\"Failed to fetch data. Response status code: %s\" %(response.status_code))\n"
   ]
  },
  {
   "cell_type": "markdown",
   "id": "2edb1cac",
   "metadata": {
    "hidden": true
   },
   "source": [
    "Now, the data can be retrieved from the API."
   ]
  },
  {
   "cell_type": "code",
   "execution_count": 4,
   "id": "5e51d906",
   "metadata": {
    "hidden": true
   },
   "outputs": [
    {
     "name": "stdout",
     "output_type": "stream",
     "text": [
      "Fetching earthquake data from: https://earthquake.usgs.gov/fdsnws/event/1/query?format=geojson&minfelt=1&starttime=2014-01-01&endtime=2024-01-01&latitude=21.3099&longitude=-157.8581&maxradiuskm=1250\n",
      "Data has been successfully fetched!\n",
      "Writing the raw data to Earthquake Project\\earthquakes_raw.json.\n"
     ]
    }
   ],
   "source": [
    "# Define variables that represent the API url and the query parameters. \n",
    "\n",
    "\n",
    "url = 'https://earthquake.usgs.gov/fdsnws/event/1/'\n",
    "\n",
    "\n",
    "queries = { 'format': 'geojson',\n",
    "            'minfelt' : 1,\n",
    "            'starttime': '2014-01-01',\n",
    "            'endtime': '2024-01-01', \n",
    "            'latitude': 21.3099,\n",
    "            'longitude': -157.8581,\n",
    "            'maxradiuskm': 1250 }\n",
    "\n",
    "\n",
    "# Run the function with the url and queries variable.\n",
    "\n",
    "fetch(url, queries)"
   ]
  },
  {
   "cell_type": "markdown",
   "id": "ef32b693",
   "metadata": {
    "heading_collapsed": true
   },
   "source": [
    "## Data Storage"
   ]
  },
  {
   "cell_type": "markdown",
   "id": "b48140d9",
   "metadata": {
    "heading_collapsed": true,
    "hidden": true
   },
   "source": [
    "### Assessing the format of the data"
   ]
  },
  {
   "cell_type": "markdown",
   "id": "2a55161a",
   "metadata": {
    "hidden": true
   },
   "source": [
    "A dataframe must be created to hold the data. Next, an attempt to convert the data into a Pandas DataFrame is conducted. The following block of code signals whether the data is in the correct format for conversion."
   ]
  },
  {
   "cell_type": "code",
   "execution_count": 5,
   "id": "c985366c",
   "metadata": {
    "hidden": true
   },
   "outputs": [
    {
     "name": "stdout",
     "output_type": "stream",
     "text": [
      "Data is unreadable. JSON file needs to be formatted.\n"
     ]
    }
   ],
   "source": [
    "try: \n",
    "    data = pd.read_json('earthquakes_raw.json')\n",
    "    print(\"Data is readable.\")\n",
    "except:\n",
    "    print(\"Data is unreadable. JSON file needs to be formatted.\")"
   ]
  },
  {
   "cell_type": "markdown",
   "id": "358b8180",
   "metadata": {
    "hidden": true
   },
   "source": [
    "Since the data is not ready for conversion from JSON to a Pandas DataFrame, the keys must be assessed to determine an appropriate method formatting the data."
   ]
  },
  {
   "cell_type": "code",
   "execution_count": 6,
   "id": "7868c8ae",
   "metadata": {
    "hidden": true
   },
   "outputs": [
    {
     "name": "stdout",
     "output_type": "stream",
     "text": [
      "The keys is the raw earthquake data are:\n",
      "- bbox\n",
      "- features\n",
      "- metadata\n",
      "- type\n"
     ]
    }
   ],
   "source": [
    "# Retrieve the keys.\n",
    "\n",
    "with open('earthquakes_raw.json', 'r') as file:\n",
    "    data = json.load(file)\n",
    "    \n",
    "# Iterate over the keys and produce a list. \n",
    "\n",
    "print(\"The keys is the raw earthquake data are:\")\n",
    "for keys in data.keys():\n",
    "    print(\"- %s\" % keys)"
   ]
  },
  {
   "cell_type": "markdown",
   "id": "8e0cd362",
   "metadata": {
    "heading_collapsed": true,
    "hidden": true
   },
   "source": [
    "### Normalising the JSON, creating a dataframe and assessing the contents"
   ]
  },
  {
   "cell_type": "markdown",
   "id": "8294b45c",
   "metadata": {
    "hidden": true
   },
   "source": [
    "The key of interest is \"features\" as it contains the details of each earthquake event. This will be used to normalise the data so that it can be converted into the dataframe that will be used for Task 2 and 3."
   ]
  },
  {
   "cell_type": "code",
   "execution_count": 7,
   "id": "47ca9bde",
   "metadata": {
    "hidden": true
   },
   "outputs": [],
   "source": [
    "# Normalise the data by the \"features\" key. \n",
    "\n",
    "df = pd.json_normalize(data[\"features\"])"
   ]
  },
  {
   "cell_type": "markdown",
   "id": "1972df57",
   "metadata": {
    "hidden": true
   },
   "source": [
    "It is now possible to find the number of entries that have been retrieved from the API as well as a list of the variables included."
   ]
  },
  {
   "cell_type": "code",
   "execution_count": 8,
   "id": "57ad904b",
   "metadata": {
    "hidden": true
   },
   "outputs": [
    {
     "name": "stdout",
     "output_type": "stream",
     "text": [
      "There are 4507 entries in the dataframe prior to data engineering.\n"
     ]
    }
   ],
   "source": [
    "# Print the number of entries.\n",
    "\n",
    "print(\"There are %d entries in the dataframe prior to data engineering.\" % len(df))"
   ]
  },
  {
   "cell_type": "code",
   "execution_count": 9,
   "id": "2d3c9c5c",
   "metadata": {
    "hidden": true
   },
   "outputs": [
    {
     "data": {
      "text/plain": [
       "Index(['id', 'type', 'geometry.coordinates', 'geometry.type',\n",
       "       'properties.alert', 'properties.cdi', 'properties.code',\n",
       "       'properties.detail', 'properties.dmin', 'properties.felt',\n",
       "       'properties.gap', 'properties.ids', 'properties.mag',\n",
       "       'properties.magType', 'properties.mmi', 'properties.net',\n",
       "       'properties.nst', 'properties.place', 'properties.rms',\n",
       "       'properties.sig', 'properties.sources', 'properties.status',\n",
       "       'properties.time', 'properties.title', 'properties.tsunami',\n",
       "       'properties.type', 'properties.types', 'properties.tz',\n",
       "       'properties.updated', 'properties.url'],\n",
       "      dtype='object')"
      ]
     },
     "execution_count": 9,
     "metadata": {},
     "output_type": "execute_result"
    }
   ],
   "source": [
    "# Look at what variables are included.\n",
    "\n",
    "df.columns"
   ]
  },
  {
   "cell_type": "markdown",
   "id": "17c883a2",
   "metadata": {
    "heading_collapsed": true,
    "hidden": true
   },
   "source": [
    "### Modifying the variable names"
   ]
  },
  {
   "cell_type": "markdown",
   "id": "3b9171a7",
   "metadata": {
    "hidden": true
   },
   "source": [
    "The variable names are lengthy and there multiple \"type\" variables. In order to make the dataframe more readible, some variables will be renamed, the prefixes \"geometry\" and \"properties\" will be removed and the column names will be capitalised."
   ]
  },
  {
   "cell_type": "code",
   "execution_count": 10,
   "id": "5df5eece",
   "metadata": {
    "hidden": true
   },
   "outputs": [],
   "source": [
    "# Rename the \"type\" variables.\n",
    "\n",
    "df = df.rename(columns={\"geometry.type\": \"Geometry Type\", \"type\": \"Data Type\", \"properties.type\": \"Seismic Type\"})\n",
    "\n",
    "# Create a dataframe with the prefixes dropped.\n",
    "\n",
    "no_prefix = df.columns.str.removeprefix(\"properties.\").str.removeprefix(\"geometry.\")\n",
    "\n",
    "# Capitalise the columns of this dataframe.\n",
    "\n",
    "capitalised_cols = no_prefix.str.capitalize()\n",
    "\n",
    "# Assign the modified column names to the original dataframe.\n",
    "\n",
    "df.columns = capitalised_cols\n",
    "\n",
    "# Assign the \"Code\" variable as the index.\n",
    "\n",
    "df.set_index(\"Code\", inplace=True)"
   ]
  },
  {
   "cell_type": "markdown",
   "id": "363b2035",
   "metadata": {
    "hidden": true
   },
   "source": [
    "Then the top 5 entries of the dataframe can be accessed to verify the column names have been successfully updated."
   ]
  },
  {
   "cell_type": "code",
   "execution_count": 11,
   "id": "a152136d",
   "metadata": {
    "hidden": true,
    "scrolled": true
   },
   "outputs": [
    {
     "data": {
      "text/html": [
       "<div>\n",
       "<style scoped>\n",
       "    .dataframe tbody tr th:only-of-type {\n",
       "        vertical-align: middle;\n",
       "    }\n",
       "\n",
       "    .dataframe tbody tr th {\n",
       "        vertical-align: top;\n",
       "    }\n",
       "\n",
       "    .dataframe thead th {\n",
       "        text-align: right;\n",
       "    }\n",
       "</style>\n",
       "<table border=\"1\" class=\"dataframe\">\n",
       "  <thead>\n",
       "    <tr style=\"text-align: right;\">\n",
       "      <th></th>\n",
       "      <th>Id</th>\n",
       "      <th>Data type</th>\n",
       "      <th>Coordinates</th>\n",
       "      <th>Geometry type</th>\n",
       "      <th>Alert</th>\n",
       "      <th>Cdi</th>\n",
       "      <th>Detail</th>\n",
       "      <th>Dmin</th>\n",
       "      <th>Felt</th>\n",
       "      <th>Gap</th>\n",
       "      <th>...</th>\n",
       "      <th>Sources</th>\n",
       "      <th>Status</th>\n",
       "      <th>Time</th>\n",
       "      <th>Title</th>\n",
       "      <th>Tsunami</th>\n",
       "      <th>Seismic type</th>\n",
       "      <th>Types</th>\n",
       "      <th>Tz</th>\n",
       "      <th>Updated</th>\n",
       "      <th>Url</th>\n",
       "    </tr>\n",
       "    <tr>\n",
       "      <th>Code</th>\n",
       "      <th></th>\n",
       "      <th></th>\n",
       "      <th></th>\n",
       "      <th></th>\n",
       "      <th></th>\n",
       "      <th></th>\n",
       "      <th></th>\n",
       "      <th></th>\n",
       "      <th></th>\n",
       "      <th></th>\n",
       "      <th></th>\n",
       "      <th></th>\n",
       "      <th></th>\n",
       "      <th></th>\n",
       "      <th></th>\n",
       "      <th></th>\n",
       "      <th></th>\n",
       "      <th></th>\n",
       "      <th></th>\n",
       "      <th></th>\n",
       "      <th></th>\n",
       "    </tr>\n",
       "  </thead>\n",
       "  <tbody>\n",
       "    <tr>\n",
       "      <th>73704697</th>\n",
       "      <td>hv73704697</td>\n",
       "      <td>Feature</td>\n",
       "      <td>[-155.246666666667, 19.3865, 1.35]</td>\n",
       "      <td>Point</td>\n",
       "      <td>None</td>\n",
       "      <td>2.7</td>\n",
       "      <td>https://earthquake.usgs.gov/fdsnws/event/1/que...</td>\n",
       "      <td>NaN</td>\n",
       "      <td>10</td>\n",
       "      <td>45.0</td>\n",
       "      <td>...</td>\n",
       "      <td>,hv,us,</td>\n",
       "      <td>reviewed</td>\n",
       "      <td>1704012869020</td>\n",
       "      <td>M 2.9 - 6 km SSW of Volcano, Hawaii</td>\n",
       "      <td>0</td>\n",
       "      <td>earthquake</td>\n",
       "      <td>,dyfi,origin,phase-data,</td>\n",
       "      <td>None</td>\n",
       "      <td>1709415574040</td>\n",
       "      <td>https://earthquake.usgs.gov/earthquakes/eventp...</td>\n",
       "    </tr>\n",
       "    <tr>\n",
       "      <th>73704627</th>\n",
       "      <td>hv73704627</td>\n",
       "      <td>Feature</td>\n",
       "      <td>[-155.503666666667, 20.0086666666667, 13.04]</td>\n",
       "      <td>Point</td>\n",
       "      <td>None</td>\n",
       "      <td>2.7</td>\n",
       "      <td>https://earthquake.usgs.gov/fdsnws/event/1/que...</td>\n",
       "      <td>NaN</td>\n",
       "      <td>3</td>\n",
       "      <td>157.0</td>\n",
       "      <td>...</td>\n",
       "      <td>,us,hv,</td>\n",
       "      <td>reviewed</td>\n",
       "      <td>1704008857340</td>\n",
       "      <td>M 2.4 - 8 km SSW of Honoka‘a, Hawaii</td>\n",
       "      <td>0</td>\n",
       "      <td>earthquake</td>\n",
       "      <td>,dyfi,origin,phase-data,</td>\n",
       "      <td>None</td>\n",
       "      <td>1709415574040</td>\n",
       "      <td>https://earthquake.usgs.gov/earthquakes/eventp...</td>\n",
       "    </tr>\n",
       "    <tr>\n",
       "      <th>73700837</th>\n",
       "      <td>hv73700837</td>\n",
       "      <td>Feature</td>\n",
       "      <td>[-155.460833333333, 19.1943333333333, 31.4]</td>\n",
       "      <td>Point</td>\n",
       "      <td>None</td>\n",
       "      <td>2.2</td>\n",
       "      <td>https://earthquake.usgs.gov/fdsnws/event/1/que...</td>\n",
       "      <td>NaN</td>\n",
       "      <td>1</td>\n",
       "      <td>146.0</td>\n",
       "      <td>...</td>\n",
       "      <td>,hv,us,</td>\n",
       "      <td>reviewed</td>\n",
       "      <td>1703895268370</td>\n",
       "      <td>M 2.5 - 2 km ESE of Pāhala, Hawaii</td>\n",
       "      <td>0</td>\n",
       "      <td>earthquake</td>\n",
       "      <td>,dyfi,origin,phase-data,</td>\n",
       "      <td>None</td>\n",
       "      <td>1709415573040</td>\n",
       "      <td>https://earthquake.usgs.gov/earthquakes/eventp...</td>\n",
       "    </tr>\n",
       "    <tr>\n",
       "      <th>73700682</th>\n",
       "      <td>hv73700682</td>\n",
       "      <td>Feature</td>\n",
       "      <td>[-155.747, 20.0081666666667, 6.77]</td>\n",
       "      <td>Point</td>\n",
       "      <td>None</td>\n",
       "      <td>3.1</td>\n",
       "      <td>https://earthquake.usgs.gov/fdsnws/event/1/que...</td>\n",
       "      <td>NaN</td>\n",
       "      <td>3</td>\n",
       "      <td>105.0</td>\n",
       "      <td>...</td>\n",
       "      <td>,hv,us,</td>\n",
       "      <td>reviewed</td>\n",
       "      <td>1703885666380</td>\n",
       "      <td>M 2.4 - 7 km WSW of Waimea, Hawaii</td>\n",
       "      <td>0</td>\n",
       "      <td>earthquake</td>\n",
       "      <td>,dyfi,origin,phase-data,</td>\n",
       "      <td>None</td>\n",
       "      <td>1709415570040</td>\n",
       "      <td>https://earthquake.usgs.gov/earthquakes/eventp...</td>\n",
       "    </tr>\n",
       "    <tr>\n",
       "      <th>73700537</th>\n",
       "      <td>hv73700537</td>\n",
       "      <td>Feature</td>\n",
       "      <td>[-155.285995483398, 19.4120006561279, 1.210000...</td>\n",
       "      <td>Point</td>\n",
       "      <td>None</td>\n",
       "      <td>2.0</td>\n",
       "      <td>https://earthquake.usgs.gov/fdsnws/event/1/que...</td>\n",
       "      <td>NaN</td>\n",
       "      <td>1</td>\n",
       "      <td>41.0</td>\n",
       "      <td>...</td>\n",
       "      <td>,hv,</td>\n",
       "      <td>automatic</td>\n",
       "      <td>1703871751150</td>\n",
       "      <td>M 2.2 - 6 km WSW of Volcano, Hawaii</td>\n",
       "      <td>0</td>\n",
       "      <td>earthquake</td>\n",
       "      <td>,dyfi,origin,phase-data,</td>\n",
       "      <td>None</td>\n",
       "      <td>1703889225828</td>\n",
       "      <td>https://earthquake.usgs.gov/earthquakes/eventp...</td>\n",
       "    </tr>\n",
       "  </tbody>\n",
       "</table>\n",
       "<p>5 rows × 29 columns</p>\n",
       "</div>"
      ],
      "text/plain": [
       "                  Id Data type  \\\n",
       "Code                             \n",
       "73704697  hv73704697   Feature   \n",
       "73704627  hv73704627   Feature   \n",
       "73700837  hv73700837   Feature   \n",
       "73700682  hv73700682   Feature   \n",
       "73700537  hv73700537   Feature   \n",
       "\n",
       "                                                Coordinates Geometry type  \\\n",
       "Code                                                                        \n",
       "73704697                 [-155.246666666667, 19.3865, 1.35]         Point   \n",
       "73704627       [-155.503666666667, 20.0086666666667, 13.04]         Point   \n",
       "73700837        [-155.460833333333, 19.1943333333333, 31.4]         Point   \n",
       "73700682                 [-155.747, 20.0081666666667, 6.77]         Point   \n",
       "73700537  [-155.285995483398, 19.4120006561279, 1.210000...         Point   \n",
       "\n",
       "         Alert  Cdi                                             Detail  Dmin  \\\n",
       "Code                                                                           \n",
       "73704697  None  2.7  https://earthquake.usgs.gov/fdsnws/event/1/que...   NaN   \n",
       "73704627  None  2.7  https://earthquake.usgs.gov/fdsnws/event/1/que...   NaN   \n",
       "73700837  None  2.2  https://earthquake.usgs.gov/fdsnws/event/1/que...   NaN   \n",
       "73700682  None  3.1  https://earthquake.usgs.gov/fdsnws/event/1/que...   NaN   \n",
       "73700537  None  2.0  https://earthquake.usgs.gov/fdsnws/event/1/que...   NaN   \n",
       "\n",
       "          Felt    Gap  ...  Sources     Status           Time  \\\n",
       "Code                   ...                                      \n",
       "73704697    10   45.0  ...  ,hv,us,   reviewed  1704012869020   \n",
       "73704627     3  157.0  ...  ,us,hv,   reviewed  1704008857340   \n",
       "73700837     1  146.0  ...  ,hv,us,   reviewed  1703895268370   \n",
       "73700682     3  105.0  ...  ,hv,us,   reviewed  1703885666380   \n",
       "73700537     1   41.0  ...     ,hv,  automatic  1703871751150   \n",
       "\n",
       "                                         Title Tsunami  Seismic type  \\\n",
       "Code                                                                   \n",
       "73704697   M 2.9 - 6 km SSW of Volcano, Hawaii       0    earthquake   \n",
       "73704627  M 2.4 - 8 km SSW of Honoka‘a, Hawaii       0    earthquake   \n",
       "73700837    M 2.5 - 2 km ESE of Pāhala, Hawaii       0    earthquake   \n",
       "73700682    M 2.4 - 7 km WSW of Waimea, Hawaii       0    earthquake   \n",
       "73700537   M 2.2 - 6 km WSW of Volcano, Hawaii       0    earthquake   \n",
       "\n",
       "                             Types    Tz        Updated  \\\n",
       "Code                                                      \n",
       "73704697  ,dyfi,origin,phase-data,  None  1709415574040   \n",
       "73704627  ,dyfi,origin,phase-data,  None  1709415574040   \n",
       "73700837  ,dyfi,origin,phase-data,  None  1709415573040   \n",
       "73700682  ,dyfi,origin,phase-data,  None  1709415570040   \n",
       "73700537  ,dyfi,origin,phase-data,  None  1703889225828   \n",
       "\n",
       "                                                        Url  \n",
       "Code                                                         \n",
       "73704697  https://earthquake.usgs.gov/earthquakes/eventp...  \n",
       "73704627  https://earthquake.usgs.gov/earthquakes/eventp...  \n",
       "73700837  https://earthquake.usgs.gov/earthquakes/eventp...  \n",
       "73700682  https://earthquake.usgs.gov/earthquakes/eventp...  \n",
       "73700537  https://earthquake.usgs.gov/earthquakes/eventp...  \n",
       "\n",
       "[5 rows x 29 columns]"
      ]
     },
     "execution_count": 11,
     "metadata": {},
     "output_type": "execute_result"
    }
   ],
   "source": [
    "# View the first 5 entries of the dataframe.\n",
    "\n",
    "df.head(5)"
   ]
  },
  {
   "cell_type": "markdown",
   "id": "7e4ade6d",
   "metadata": {
    "heading_collapsed": true,
    "hidden": true
   },
   "source": [
    "### Storing the dataset"
   ]
  },
  {
   "cell_type": "markdown",
   "id": "eeeb6619",
   "metadata": {
    "hidden": true
   },
   "source": [
    "The dataset is now better prepared for cleaning in the next task. It can be serialised and saved to the working directory for access in the second notebook. "
   ]
  },
  {
   "cell_type": "code",
   "execution_count": 12,
   "id": "b183d66a",
   "metadata": {
    "hidden": true
   },
   "outputs": [],
   "source": [
    "# Use the to_pickle function to serialise the data to the .pkl file \"Earthquake Dataset\" \n",
    "# This will save it to the working directory.\n",
    "\n",
    "df.to_pickle(\"Earthquake Dataset\")"
   ]
  }
 ],
 "metadata": {
  "kernelspec": {
   "display_name": "Python 3 (ipykernel)",
   "language": "python",
   "name": "python3"
  },
  "language_info": {
   "codemirror_mode": {
    "name": "ipython",
    "version": 3
   },
   "file_extension": ".py",
   "mimetype": "text/x-python",
   "name": "python",
   "nbconvert_exporter": "python",
   "pygments_lexer": "ipython3",
   "version": "3.9.18"
  }
 },
 "nbformat": 4,
 "nbformat_minor": 5
}
